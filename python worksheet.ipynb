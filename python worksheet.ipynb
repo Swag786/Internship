{
 "cells": [
  {
   "cell_type": "code",
   "execution_count": 1,
   "id": "41860088",
   "metadata": {},
   "outputs": [],
   "source": [
    "#write a program to find the factorial of number"
   ]
  },
  {
   "cell_type": "code",
   "execution_count": 2,
   "id": "9e10ddfe",
   "metadata": {},
   "outputs": [
    {
     "name": "stdout",
     "output_type": "stream",
     "text": [
      "6\n",
      "720\n"
     ]
    }
   ],
   "source": [
    "import math\n",
    "def factorial(x):\n",
    "    return math.factorial(x) \n",
    "\n",
    "num=int(input())\n",
    "print(factorial(num))"
   ]
  },
  {
   "cell_type": "code",
   "execution_count": 3,
   "id": "bebe4c24",
   "metadata": {},
   "outputs": [],
   "source": [
    "# write a program to find out whether the no. is prime or composite"
   ]
  },
  {
   "cell_type": "code",
   "execution_count": 4,
   "id": "ae848f52",
   "metadata": {},
   "outputs": [
    {
     "name": "stdout",
     "output_type": "stream",
     "text": [
      "enter number : 7\n",
      "7 is a prime number\n"
     ]
    }
   ],
   "source": [
    "num = int(input('enter number : '))\n",
    "flag = False \n",
    "\n",
    "if num > 1:\n",
    "    for i in range (2,num) :\n",
    "        if (num % i) == 0:\n",
    "            flag = True\n",
    "            break\n",
    "if flag:            \n",
    "            print(num,\"is not a prime number\")\n",
    "else:\n",
    "            print(num,\"is a prime number\")\n",
    "    "
   ]
  },
  {
   "cell_type": "code",
   "execution_count": 5,
   "id": "de930066",
   "metadata": {},
   "outputs": [],
   "source": [
    "# write a program to check whether a given string is palindrome or not "
   ]
  },
  {
   "cell_type": "code",
   "execution_count": 7,
   "id": "66e58b61",
   "metadata": {},
   "outputs": [
    {
     "name": "stdout",
     "output_type": "stream",
     "text": [
      "No\n"
     ]
    }
   ],
   "source": [
    "def isPalindrome(s):\n",
    "    return s == s[::-1]\n",
    "\n",
    "#Driver code\n",
    "s = \"malyalam\"\n",
    "ans = isPalindrome(s)\n",
    "\n",
    "if ans:\n",
    "    print(\"Yes\")\n",
    "else:\n",
    "    print(\"No\")\n",
    "    "
   ]
  },
  {
   "cell_type": "code",
   "execution_count": 1,
   "id": "f45a715a",
   "metadata": {},
   "outputs": [],
   "source": [
    "# write a program to get the third side of right angled triangle"
   ]
  },
  {
   "cell_type": "code",
   "execution_count": 7,
   "id": "8e6761f2",
   "metadata": {},
   "outputs": [
    {
     "name": "stdout",
     "output_type": "stream",
     "text": [
      "Enter base:5\n",
      "Enter height:10\n",
      "Enter angle:90\n",
      "Hypotenuse = 11.180339887498949\n"
     ]
    }
   ],
   "source": [
    "import math\n",
    "\n",
    "a = float(input('Enter base:'))\n",
    "b = float(input('Enter height:'))\n",
    "c = float(input('Enter angle:')) \n",
    "\n",
    "c=math.sqrt(a ** 2 + b**2)\n",
    "\n",
    "print ('Hypotenuse =',c) "
   ]
  },
  {
   "cell_type": "code",
   "execution_count": 6,
   "id": "26742cbc",
   "metadata": {},
   "outputs": [],
   "source": [
    "# write a program to print the frequency of each of the characters present in a given string"
   ]
  },
  {
   "cell_type": "code",
   "execution_count": 17,
   "id": "921de53e",
   "metadata": {},
   "outputs": [
    {
     "name": "stdout",
     "output_type": "stream",
     "text": [
      "Apple Mango Apple Litchi Mango Litchi Banana\n"
     ]
    }
   ],
   "source": [
    "str  = \"Apple Mango Apple Litchi Mango Litchi Banana\"\n",
    "print(str)"
   ]
  },
  {
   "cell_type": "code",
   "execution_count": null,
   "id": "674b4897",
   "metadata": {},
   "outputs": [],
   "source": []
  },
  {
   "cell_type": "code",
   "execution_count": null,
   "id": "7eb4db13",
   "metadata": {},
   "outputs": [],
   "source": []
  }
 ],
 "metadata": {
  "kernelspec": {
   "display_name": "Python 3",
   "language": "python",
   "name": "python3"
  },
  "language_info": {
   "codemirror_mode": {
    "name": "ipython",
    "version": 3
   },
   "file_extension": ".py",
   "mimetype": "text/x-python",
   "name": "python",
   "nbconvert_exporter": "python",
   "pygments_lexer": "ipython3",
   "version": "3.8.8"
  }
 },
 "nbformat": 4,
 "nbformat_minor": 5
}
